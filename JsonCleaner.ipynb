{
  "nbformat": 4,
  "nbformat_minor": 0,
  "metadata": {
    "colab": {
      "provenance": [],
      "authorship_tag": "ABX9TyO5wm+RPLQelqY20YG7fSzr",
      "include_colab_link": true
    },
    "kernelspec": {
      "name": "python3",
      "display_name": "Python 3"
    },
    "language_info": {
      "name": "python"
    }
  },
  "cells": [
    {
      "cell_type": "markdown",
      "metadata": {
        "id": "view-in-github",
        "colab_type": "text"
      },
      "source": [
        "<a href=\"https://colab.research.google.com/github/VaibhavvvBarot/VaibhavvvBarot/blob/main/JsonCleaner.ipynb\" target=\"_parent\"><img src=\"https://colab.research.google.com/assets/colab-badge.svg\" alt=\"Open In Colab\"/></a>"
      ]
    },
    {
      "cell_type": "markdown",
      "source": [
        "### *Assign (Set Values)*"
      ],
      "metadata": {
        "id": "jQnbqrq9-Xgp"
      }
    },
    {
      "cell_type": "code",
      "source": [
        "import json\n",
        "from google.colab import output\n",
        "from IPython.display import display, HTML"
      ],
      "metadata": {
        "id": "3Nt9ndj2_1Sz"
      },
      "execution_count": null,
      "outputs": []
    },
    {
      "cell_type": "code",
      "source": [
        "# Define the valid keys for each type\n",
        "LOGIC_CONTROL_KEYS = [\n",
        "    \"ValueType\",\n",
        "    \"DocSourceName\",\n",
        "    \"Value\",\n",
        "    \"DataType\",\n",
        "    \"ValueSubType\",\n",
        "    \"DataSubType\",\n",
        "    \"LookupType\",\n",
        "    \"LookupName\"\n",
        "]\n",
        "\n",
        "LOGIC_EXPRESSION_ADDITIONAL_KEYS = [\n",
        "    \"ConditionalOperator\",\n",
        "    \"ID\",\n",
        "    \"ExpressionType\",\n",
        "    \"CompareToValue\",\n",
        "    \"CompareToValueType\",\n",
        "    \"CompareToDocSourceName\",\n",
        "    \"CompareToDataType\",\n",
        "    \"CompareToDataSubType\",\n",
        "    \"LogicalOperator\"\n",
        "]\n",
        "\n",
        "# Action-specific keys\n",
        "ASSIGN_VALUE_OUTPUT_KEYS = [\"AssignAction\"]\n",
        "\n",
        "def optimize_json(input_json):\n",
        "    \"\"\"Optimize JSON based on logicAction type\"\"\"\n",
        "    optimized_json = {\n",
        "        \"logicAction\": input_json.get(\"logicAction\", \"\")\n",
        "    }\n",
        "\n",
        "    # Handle \"Assign Value\" logicAction\n",
        "    if input_json.get(\"logicAction\") == \"Assign Value\":\n",
        "        # Process logicInstanceInputs\n",
        "        if \"logicInstanceInputs\" in input_json:\n",
        "            optimized_inputs = []\n",
        "            for item in input_json[\"logicInstanceInputs\"]:\n",
        "                # Only keep keys that are present in the original item\n",
        "                filtered_item = {}\n",
        "                for key in LOGIC_CONTROL_KEYS:\n",
        "                    if key in item:\n",
        "                        filtered_item[key] = item[key]\n",
        "                optimized_inputs.append(filtered_item)\n",
        "            optimized_json[\"logicInstanceInputs\"] = optimized_inputs\n",
        "\n",
        "        # Process logicInstanceOutputs\n",
        "        if \"logicInstanceOutputs\" in input_json:\n",
        "            optimized_outputs = []\n",
        "            for item in input_json[\"logicInstanceOutputs\"]:\n",
        "                # Keep standard LogicControl keys plus AssignAction\n",
        "                filtered_item = {}\n",
        "                # Add standard keys if present\n",
        "                for key in LOGIC_CONTROL_KEYS:\n",
        "                    if key in item:\n",
        "                        filtered_item[key] = item[key]\n",
        "                # Add action-specific keys if present\n",
        "                for key in ASSIGN_VALUE_OUTPUT_KEYS:\n",
        "                    if key in item:\n",
        "                        filtered_item[key] = item[key]\n",
        "                optimized_outputs.append(filtered_item)\n",
        "            optimized_json[\"logicInstanceOutputs\"] = optimized_outputs\n",
        "\n",
        "    return optimized_json\n",
        "\n",
        "# Get JSON input from user\n",
        "json_text = input(\"Paste your JSON here: \")\n",
        "\n",
        "try:\n",
        "    input_json = json.loads(json_text)\n",
        "    optimized_json = optimize_json(input_json)\n",
        "\n",
        "    # Format the optimized JSON\n",
        "    formatted_json = json.dumps(optimized_json, indent=2)\n",
        "\n",
        "    # Clear previous output\n",
        "    output.clear()\n",
        "\n",
        "    # Create a text area with the optimized JSON for easy copying\n",
        "    display(HTML(f\"\"\"\n",
        "    <h3>Optimized JSON (Click inside the box, press Ctrl+A to select all, then Ctrl+C to copy):</h3>\n",
        "    <textarea id=\"json-output\" style=\"width:100%; height:250px; font-family:monospace; white-space:pre;\">{formatted_json}</textarea>\n",
        "    <script>\n",
        "        // Auto-select the text for easy copying\n",
        "        var textarea = document.getElementById('json-output');\n",
        "        textarea.focus();\n",
        "        textarea.select();\n",
        "    </script>\n",
        "    \"\"\"))\n",
        "\n",
        "    print(\"\\nThe optimized JSON is ready to copy from the text area above.\")\n",
        "\n",
        "except Exception as e:\n",
        "    print(f\"Error: {str(e)}\")"
      ],
      "metadata": {
        "colab": {
          "base_uri": "https://localhost:8080/",
          "height": 373
        },
        "collapsed": true,
        "id": "TYewY0P-_IOH",
        "outputId": "887a37d0-1fc8-4879-f70e-4215135cdf95"
      },
      "execution_count": 22,
      "outputs": [
        {
          "output_type": "display_data",
          "data": {
            "text/plain": [
              "<IPython.core.display.HTML object>"
            ],
            "text/html": [
              "\n",
              "    <h3>Optimized JSON (Click inside the box, press Ctrl+A to select all, then Ctrl+C to copy):</h3>\n",
              "    <textarea id=\"json-output\" style=\"width:100%; height:250px; font-family:monospace; white-space:pre;\">{\n",
              "  \"logicAction\": \"Assign Value\",\n",
              "  \"logicInstanceInputs\": [\n",
              "    {\n",
              "      \"ValueType\": \"Field\",\n",
              "      \"DocSourceName\": \"WorkCenterPointer\",\n",
              "      \"Value\": \"StandardStartTime\",\n",
              "      \"DataType\": \"Time\",\n",
              "      \"DataSubType\": \"Time\"\n",
              "    },\n",
              "    {\n",
              "      \"ValueType\": \"Field\",\n",
              "      \"DocSourceName\": \"WorkCenterPointer\",\n",
              "      \"Value\": \"StandardEndTime\",\n",
              "      \"DataType\": \"Time\",\n",
              "      \"DataSubType\": \"Time\"\n",
              "    }\n",
              "  ],\n",
              "  \"logicInstanceOutputs\": [\n",
              "    {\n",
              "      \"ValueType\": \"Variable\",\n",
              "      \"Value\": \"AvailabilityStartTime\",\n",
              "      \"DataType\": \"Time\",\n",
              "      \"DataSubType\": \"Time\",\n",
              "      \"AssignAction\": \"set\"\n",
              "    },\n",
              "    {\n",
              "      \"ValueType\": \"Variable\",\n",
              "      \"Value\": \"AvailabilityEndTime\",\n",
              "      \"DataType\": \"Time\",\n",
              "      \"DataSubType\": \"Time\",\n",
              "      \"AssignAction\": \"set\"\n",
              "    }\n",
              "  ]\n",
              "}</textarea>\n",
              "    <script>\n",
              "        // Auto-select the text for easy copying\n",
              "        var textarea = document.getElementById('json-output');\n",
              "        textarea.focus();\n",
              "        textarea.select();\n",
              "    </script>\n",
              "    "
            ]
          },
          "metadata": {}
        },
        {
          "output_type": "stream",
          "name": "stdout",
          "text": [
            "\n",
            "The optimized JSON is ready to copy from the text area above.\n"
          ]
        }
      ]
    },
    {
      "cell_type": "code",
      "source": [],
      "metadata": {
        "id": "rYp_hPfi_3Gd"
      },
      "execution_count": null,
      "outputs": []
    }
  ]
}